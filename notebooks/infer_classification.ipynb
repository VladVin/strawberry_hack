{
 "cells": [
  {
   "cell_type": "code",
   "execution_count": null,
   "metadata": {},
   "outputs": [],
   "source": [
    "import torch\n",
    "import cv2\n",
    "from torchvision.transforms import ToTensor, Normalize, Compose, Resize\n",
    "\n",
    "device = 'cuda' if torch.cuda.is_available() else 'cpu'\n",
    "\n",
    "#путь до картинки ВВести\n",
    "image_path = ''\n",
    "\n",
    "#Разрешение 512, 512\n",
    "transforms = Compose([\n",
    "        ToTensor(),\n",
    "        Resize((512, 512)),\n",
    "        Normalize(mean =  [0.485, 0.456, 0.406], std = [0.229, 0.224, 0.225])\n",
    "        ])\n",
    "\n",
    "label2class = {\n",
    "    0: 'начало роста',\n",
    "    1: 'появл. пер. 2-4 лист.',\n",
    "    2: 'появл. цвет.',\n",
    "    3: 'полный в. цвет.',\n",
    "    4: 'цветение',\n",
    "    5: 'опадение лепестков',\n",
    "    6: 'формирование ягод',\n",
    "    7: 'развитие плода',\n",
    "    8: 'диффер. почек и усов'\n",
    "}\n",
    "\n",
    "model = torch.jit.load('/workdir/strawberry_hack/strawberry_hack/notebooks/strawberry_2_head_classification.pt')\n",
    "\n",
    "origin_img = cv2.imread(image_path)\n",
    "origin_img = cv2.cvtColor(origin_img, cv2.COLOR_BGR2RGB)\n",
    "x = torch.unsqueeze(transforms(origin_img), 0).to(device)\n",
    "cls_answer, healthy_answer = model(x)\n",
    "cls_label = int(torch.argmax(cls_answer).cpu())\n",
    "\n",
    "#выводим класс и процент здоровья\n",
    "label2class[cls_label], float(healthy_answer[0][0])"
   ]
  }
 ],
 "metadata": {
  "language_info": {
   "name": "python"
  },
  "orig_nbformat": 4
 },
 "nbformat": 4,
 "nbformat_minor": 2
}
